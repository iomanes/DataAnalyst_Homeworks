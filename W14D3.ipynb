{
 "cells": [
  {
   "cell_type": "markdown",
   "id": "942a0b1c-6436-41ce-9a4f-b008360fd2bb",
   "metadata": {},
   "source": [
    "# PYTHON W14D3 - PRATICA"
   ]
  },
  {
   "cell_type": "markdown",
   "id": "a52c392b-95af-4f7c-b524-5cc1a05c8602",
   "metadata": {},
   "source": [
    "## Es. 1"
   ]
  },
  {
   "cell_type": "markdown",
   "id": "85115914-d520-434c-ac73-5a8eda0b346e",
   "metadata": {},
   "source": [
    "Stampare i primi N numeri della sequenza di Fibonacci, dove N è inserito dall'utente."
   ]
  },
  {
   "cell_type": "code",
   "execution_count": 7,
   "id": "1e1e57f0-0f4a-4506-8329-d47681419857",
   "metadata": {
    "tags": []
   },
   "outputs": [
    {
     "name": "stdout",
     "output_type": "stream",
     "text": [
      "I primi 10 numeri della sequenza di Fibonacci sono [1, 1, 2, 3, 5, 8, 13, 21, 34, 55].\n"
     ]
    }
   ],
   "source": [
    "numero_iterazioni= input('Quanti numeri, da 1 a 25, vuoi vedere?')\n",
    "target= int(numero_iterazioni)\n",
    "ciclo= 1\n",
    "prec= 0 \n",
    "num= 1\n",
    "Fibonacci= []\n",
    "\n",
    "while ciclo <= target:\n",
    "    Fibonacci.append(num)\n",
    "    succ = prec + num\n",
    "    prec = num\n",
    "    num = succ\n",
    "    ciclo += 1\n",
    "print(f'I primi {numero_iterazioni} numeri della sequenza di Fibonacci sono {Fibonacci}.')\n",
    "    "
   ]
  },
  {
   "cell_type": "markdown",
   "id": "429b4c22-4af4-44cb-a3a4-78f56ac2514c",
   "metadata": {},
   "source": [
    "## Es. 2"
   ]
  },
  {
   "cell_type": "markdown",
   "id": "78571cae-4add-4903-86c9-26851c661af5",
   "metadata": {},
   "source": [
    "Stampare i numeri da 1 a 100. Ma per i multipli di 3 stampa \"Fizz\" al posto del numero e per i multipli di 5 stampa \"Buzz\". Per i numeri che sono sia multipli di 3 che di 5, stampa \"FizzBuzz\"."
   ]
  },
  {
   "cell_type": "code",
   "execution_count": 22,
   "id": "f9a1bed1-2517-4fa0-b655-5136539b9cf5",
   "metadata": {},
   "outputs": [
    {
     "name": "stdout",
     "output_type": "stream",
     "text": [
      "1, 2, Fizz, 4, Buzz, Fizz, 7, 8, Fizz, Buzz, 11, Fizz, 13, 14, FizzBuzz, 16, 17, Fizz, 19, Buzz, Fizz, 22, 23, Fizz, Buzz, 26, Fizz, 28, 29, FizzBuzz, 31, 32, Fizz, 34, Buzz, Fizz, 37, 38, Fizz, Buzz, 41, Fizz, 43, 44, FizzBuzz, 46, 47, Fizz, 49, Buzz, Fizz, 52, 53, Fizz, Buzz, 56, Fizz, 58, 59, FizzBuzz, 61, 62, Fizz, 64, Buzz, Fizz, 67, 68, Fizz, Buzz, 71, Fizz, 73, 74, FizzBuzz, 76, 77, Fizz, 79, Buzz, Fizz, 82, 83, Fizz, Buzz, 86, Fizz, 88, 89, FizzBuzz, 91, 92, Fizz, 94, Buzz, Fizz, 97, 98, Fizz, Buzz, "
     ]
    }
   ],
   "source": [
    "num = 1\n",
    "\n",
    "while num <= 100:\n",
    "    if num % 3 == 0 and num % 5 != 0:\n",
    "        print('Fizz', end=\", \")\n",
    "    elif num % 5 == 0 and num % 3 != 0:\n",
    "        print('Buzz', end=\", \")\n",
    "    elif num % 5 == 0 and num % 3 == 0:\n",
    "        print('FizzBuzz', end=\", \")\n",
    "    else: \n",
    "        print(num, end=\", \")\n",
    "    num += 1"
   ]
  },
  {
   "cell_type": "markdown",
   "id": "72d2f44d-dd05-4745-b5c7-b06d66a0fc87",
   "metadata": {},
   "source": [
    "## Es. 3"
   ]
  },
  {
   "cell_type": "markdown",
   "id": "aae60d8a-ec24-45e7-880e-3cbc155c12b1",
   "metadata": {},
   "source": [
    "Date due liste di numeri, restituire una nuova lista contenente la somma degli elementi corrispondenti nelle due liste."
   ]
  },
  {
   "cell_type": "code",
   "execution_count": 21,
   "id": "e154cff3-f826-4dec-b425-b0133ee28a20",
   "metadata": {
    "tags": []
   },
   "outputs": [
    {
     "name": "stdout",
     "output_type": "stream",
     "text": [
      "[102, 104, 106, 108, 110, 112, 114, 116, 118, 120]\n"
     ]
    }
   ],
   "source": [
    "lista_a = [1, 2, 3, 4, 5, 6, 7, 8, 9, 10]\n",
    "lista_b = [101, 102, 103, 104, 105, 106, 107, 108, 109, 110]\n",
    "lista_result = []\n",
    "index = 0\n",
    "\n",
    "while index < max(len(lista_a), len(lista_b)):\n",
    "    lista_result.append(int(lista_a[index]) + int(lista_b[index]))\n",
    "    index += 1\n",
    "print(lista_result)"
   ]
  },
  {
   "cell_type": "markdown",
   "id": "988dc90d-77a3-4ec6-8594-8c1de0d13773",
   "metadata": {},
   "source": [
    "## Es. 4"
   ]
  },
  {
   "cell_type": "markdown",
   "id": "9ddefe4f-bf75-42d2-92cb-e2a0620e09b7",
   "metadata": {},
   "source": [
    "Data una stringa inserita dall'utente, restituire una nuova stringa con le vocali raddoppiate."
   ]
  },
  {
   "cell_type": "code",
   "execution_count": 3,
   "id": "419e6e04-5b00-41e3-997f-4ce8d18735a6",
   "metadata": {
    "tags": []
   },
   "outputs": [
    {
     "name": "stdout",
     "output_type": "stream",
     "text": [
      "ciiaaoo\n"
     ]
    }
   ],
   "source": [
    "rec = input('Scrivi qualsiasi cosa.')\n",
    "vocali = \"aeiouAEIOU\"\n",
    "new_string = \"\"\n",
    "i = 0\n",
    "\n",
    "while i < len(rec):\n",
    "    if rec[i] in vocali:\n",
    "        new_string += rec[i] * 2\n",
    "    else:\n",
    "        new_string += rec[i]\n",
    "    i += 1\n",
    "print(new_string)\n",
    "        "
   ]
  },
  {
   "cell_type": "markdown",
   "id": "4ead13ad-ac69-4057-b122-7077450f8657",
   "metadata": {},
   "source": [
    "## Es. 5"
   ]
  },
  {
   "cell_type": "markdown",
   "id": "58d97a56-839c-489f-92f0-bc63650a5f8b",
   "metadata": {},
   "source": [
    "Fatemi giocare a sasso-carta-forbice contro il computer. Trovate un modo."
   ]
  },
  {
   "cell_type": "code",
   "execution_count": null,
   "id": "789ed4c3-4529-482d-8c87-c88bc11c70ef",
   "metadata": {
    "tags": []
   },
   "outputs": [],
   "source": []
  }
 ],
 "metadata": {
  "kernelspec": {
   "display_name": "Python 3 (ipykernel)",
   "language": "python",
   "name": "python3"
  },
  "language_info": {
   "codemirror_mode": {
    "name": "ipython",
    "version": 3
   },
   "file_extension": ".py",
   "mimetype": "text/x-python",
   "name": "python",
   "nbconvert_exporter": "python",
   "pygments_lexer": "ipython3",
   "version": "3.11.5"
  }
 },
 "nbformat": 4,
 "nbformat_minor": 5
}
