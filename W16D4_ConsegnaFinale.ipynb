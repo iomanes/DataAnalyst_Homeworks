{
 "cells": [
  {
   "cell_type": "markdown",
   "id": "80c65b87-c57d-48cf-b030-0b40c7a0a4e1",
   "metadata": {},
   "source": [
    "# W16D4 - Consegna finale"
   ]
  },
  {
   "cell_type": "code",
   "execution_count": 224,
   "id": "c353be6e-849c-46f2-8757-907557d57473",
   "metadata": {
    "tags": []
   },
   "outputs": [
    {
     "data": {
      "text/html": [
       "<div>\n",
       "<style scoped>\n",
       "    .dataframe tbody tr th:only-of-type {\n",
       "        vertical-align: middle;\n",
       "    }\n",
       "\n",
       "    .dataframe tbody tr th {\n",
       "        vertical-align: top;\n",
       "    }\n",
       "\n",
       "    .dataframe thead th {\n",
       "        text-align: right;\n",
       "    }\n",
       "</style>\n",
       "<table border=\"1\" class=\"dataframe\">\n",
       "  <thead>\n",
       "    <tr style=\"text-align: right;\">\n",
       "      <th></th>\n",
       "      <th>iso_code</th>\n",
       "      <th>continent</th>\n",
       "      <th>location</th>\n",
       "      <th>date</th>\n",
       "      <th>total_cases</th>\n",
       "      <th>new_cases</th>\n",
       "      <th>new_cases_smoothed</th>\n",
       "      <th>total_deaths</th>\n",
       "      <th>new_deaths</th>\n",
       "      <th>new_deaths_smoothed</th>\n",
       "      <th>...</th>\n",
       "      <th>male_smokers</th>\n",
       "      <th>handwashing_facilities</th>\n",
       "      <th>hospital_beds_per_thousand</th>\n",
       "      <th>life_expectancy</th>\n",
       "      <th>human_development_index</th>\n",
       "      <th>population</th>\n",
       "      <th>excess_mortality_cumulative_absolute</th>\n",
       "      <th>excess_mortality_cumulative</th>\n",
       "      <th>excess_mortality</th>\n",
       "      <th>excess_mortality_cumulative_per_million</th>\n",
       "    </tr>\n",
       "  </thead>\n",
       "  <tbody>\n",
       "    <tr>\n",
       "      <th>206941</th>\n",
       "      <td>MRT</td>\n",
       "      <td>Africa</td>\n",
       "      <td>Mauritania</td>\n",
       "      <td>2020-04-03</td>\n",
       "      <td>5.0</td>\n",
       "      <td>0.0</td>\n",
       "      <td>0.429</td>\n",
       "      <td>NaN</td>\n",
       "      <td>0.0</td>\n",
       "      <td>0.000</td>\n",
       "      <td>...</td>\n",
       "      <td>NaN</td>\n",
       "      <td>15.950</td>\n",
       "      <td>NaN</td>\n",
       "      <td>64.92</td>\n",
       "      <td>0.546</td>\n",
       "      <td>4736146.0</td>\n",
       "      <td>NaN</td>\n",
       "      <td>NaN</td>\n",
       "      <td>NaN</td>\n",
       "      <td>NaN</td>\n",
       "    </tr>\n",
       "    <tr>\n",
       "      <th>297540</th>\n",
       "      <td>SEN</td>\n",
       "      <td>Africa</td>\n",
       "      <td>Senegal</td>\n",
       "      <td>2021-12-29</td>\n",
       "      <td>74353.0</td>\n",
       "      <td>0.0</td>\n",
       "      <td>30.286</td>\n",
       "      <td>1890.0</td>\n",
       "      <td>0.0</td>\n",
       "      <td>0.571</td>\n",
       "      <td>...</td>\n",
       "      <td>16.6</td>\n",
       "      <td>20.859</td>\n",
       "      <td>NaN</td>\n",
       "      <td>67.94</td>\n",
       "      <td>0.512</td>\n",
       "      <td>17316452.0</td>\n",
       "      <td>NaN</td>\n",
       "      <td>NaN</td>\n",
       "      <td>NaN</td>\n",
       "      <td>NaN</td>\n",
       "    </tr>\n",
       "    <tr>\n",
       "      <th>8105</th>\n",
       "      <td>AND</td>\n",
       "      <td>Europe</td>\n",
       "      <td>Andorra</td>\n",
       "      <td>2021-10-11</td>\n",
       "      <td>15291.0</td>\n",
       "      <td>0.0</td>\n",
       "      <td>9.857</td>\n",
       "      <td>130.0</td>\n",
       "      <td>0.0</td>\n",
       "      <td>0.000</td>\n",
       "      <td>...</td>\n",
       "      <td>37.8</td>\n",
       "      <td>NaN</td>\n",
       "      <td>NaN</td>\n",
       "      <td>83.73</td>\n",
       "      <td>0.868</td>\n",
       "      <td>79843.0</td>\n",
       "      <td>NaN</td>\n",
       "      <td>NaN</td>\n",
       "      <td>NaN</td>\n",
       "      <td>NaN</td>\n",
       "    </tr>\n",
       "    <tr>\n",
       "      <th>20140</th>\n",
       "      <td>AUS</td>\n",
       "      <td>Oceania</td>\n",
       "      <td>Australia</td>\n",
       "      <td>2021-12-21</td>\n",
       "      <td>266843.0</td>\n",
       "      <td>0.0</td>\n",
       "      <td>4498.429</td>\n",
       "      <td>2308.0</td>\n",
       "      <td>0.0</td>\n",
       "      <td>7.714</td>\n",
       "      <td>...</td>\n",
       "      <td>16.5</td>\n",
       "      <td>NaN</td>\n",
       "      <td>3.84</td>\n",
       "      <td>83.44</td>\n",
       "      <td>0.944</td>\n",
       "      <td>26177410.0</td>\n",
       "      <td>NaN</td>\n",
       "      <td>NaN</td>\n",
       "      <td>NaN</td>\n",
       "      <td>NaN</td>\n",
       "    </tr>\n",
       "    <tr>\n",
       "      <th>99053</th>\n",
       "      <td>ERI</td>\n",
       "      <td>Africa</td>\n",
       "      <td>Eritrea</td>\n",
       "      <td>2021-08-30</td>\n",
       "      <td>6639.0</td>\n",
       "      <td>0.0</td>\n",
       "      <td>2.714</td>\n",
       "      <td>37.0</td>\n",
       "      <td>0.0</td>\n",
       "      <td>0.000</td>\n",
       "      <td>...</td>\n",
       "      <td>11.4</td>\n",
       "      <td>NaN</td>\n",
       "      <td>0.70</td>\n",
       "      <td>66.32</td>\n",
       "      <td>0.459</td>\n",
       "      <td>3684041.0</td>\n",
       "      <td>NaN</td>\n",
       "      <td>NaN</td>\n",
       "      <td>NaN</td>\n",
       "      <td>NaN</td>\n",
       "    </tr>\n",
       "  </tbody>\n",
       "</table>\n",
       "<p>5 rows × 67 columns</p>\n",
       "</div>"
      ],
      "text/plain": [
       "       iso_code continent    location        date  total_cases  new_cases  \\\n",
       "206941      MRT    Africa  Mauritania  2020-04-03          5.0        0.0   \n",
       "297540      SEN    Africa     Senegal  2021-12-29      74353.0        0.0   \n",
       "8105        AND    Europe     Andorra  2021-10-11      15291.0        0.0   \n",
       "20140       AUS   Oceania   Australia  2021-12-21     266843.0        0.0   \n",
       "99053       ERI    Africa     Eritrea  2021-08-30       6639.0        0.0   \n",
       "\n",
       "        new_cases_smoothed  total_deaths  new_deaths  new_deaths_smoothed  \\\n",
       "206941               0.429           NaN         0.0                0.000   \n",
       "297540              30.286        1890.0         0.0                0.571   \n",
       "8105                 9.857         130.0         0.0                0.000   \n",
       "20140             4498.429        2308.0         0.0                7.714   \n",
       "99053                2.714          37.0         0.0                0.000   \n",
       "\n",
       "        ...  male_smokers  handwashing_facilities  hospital_beds_per_thousand  \\\n",
       "206941  ...           NaN                  15.950                         NaN   \n",
       "297540  ...          16.6                  20.859                         NaN   \n",
       "8105    ...          37.8                     NaN                         NaN   \n",
       "20140   ...          16.5                     NaN                        3.84   \n",
       "99053   ...          11.4                     NaN                        0.70   \n",
       "\n",
       "        life_expectancy  human_development_index  population  \\\n",
       "206941            64.92                    0.546   4736146.0   \n",
       "297540            67.94                    0.512  17316452.0   \n",
       "8105              83.73                    0.868     79843.0   \n",
       "20140             83.44                    0.944  26177410.0   \n",
       "99053             66.32                    0.459   3684041.0   \n",
       "\n",
       "        excess_mortality_cumulative_absolute  excess_mortality_cumulative  \\\n",
       "206941                                   NaN                          NaN   \n",
       "297540                                   NaN                          NaN   \n",
       "8105                                     NaN                          NaN   \n",
       "20140                                    NaN                          NaN   \n",
       "99053                                    NaN                          NaN   \n",
       "\n",
       "        excess_mortality  excess_mortality_cumulative_per_million  \n",
       "206941               NaN                                      NaN  \n",
       "297540               NaN                                      NaN  \n",
       "8105                 NaN                                      NaN  \n",
       "20140                NaN                                      NaN  \n",
       "99053                NaN                                      NaN  \n",
       "\n",
       "[5 rows x 67 columns]"
      ]
     },
     "execution_count": 224,
     "metadata": {},
     "output_type": "execute_result"
    }
   ],
   "source": [
    "import pandas as pd\n",
    "import numpy as np\n",
    "import humanize as hz\n",
    "\n",
    "covid = pd.read_csv(\"owid-covid-data.csv\", low_memory=False, header=0, sep=\",\")\n",
    "covid.sample(5)"
   ]
  },
  {
   "cell_type": "markdown",
   "id": "b5930041-19aa-4025-875b-2d834ec3a676",
   "metadata": {},
   "source": [
    "### 1. Verificare le dimensioni del dataset e le diciture presenti nell'intestazione;"
   ]
  },
  {
   "cell_type": "code",
   "execution_count": null,
   "id": "b5d950a9-a25a-455c-afae-27ffa556ba3d",
   "metadata": {
    "tags": []
   },
   "outputs": [],
   "source": [
    "print(covid.shape)"
   ]
  },
  {
   "cell_type": "code",
   "execution_count": 201,
   "id": "f9337d22-024a-47b9-98ed-adb25d805613",
   "metadata": {
    "tags": []
   },
   "outputs": [
    {
     "name": "stdout",
     "output_type": "stream",
     "text": [
      "La dimensione del dataset è (377018, 67)\n",
      "I metadati sono:\n",
      " Index(['iso_code', 'continent', 'location', 'date', 'total_cases', 'new_cases',\n",
      "       'new_cases_smoothed', 'total_deaths', 'new_deaths',\n",
      "       'new_deaths_smoothed', 'total_cases_per_million',\n",
      "       'new_cases_per_million', 'new_cases_smoothed_per_million',\n",
      "       'total_deaths_per_million', 'new_deaths_per_million',\n",
      "       'new_deaths_smoothed_per_million', 'reproduction_rate', 'icu_patients',\n",
      "       'icu_patients_per_million', 'hosp_patients',\n",
      "       'hosp_patients_per_million', 'weekly_icu_admissions',\n",
      "       'weekly_icu_admissions_per_million', 'weekly_hosp_admissions',\n",
      "       'weekly_hosp_admissions_per_million', 'total_tests', 'new_tests',\n",
      "       'total_tests_per_thousand', 'new_tests_per_thousand',\n",
      "       'new_tests_smoothed', 'new_tests_smoothed_per_thousand',\n",
      "       'positive_rate', 'tests_per_case', 'tests_units', 'total_vaccinations',\n",
      "       'people_vaccinated', 'people_fully_vaccinated', 'total_boosters',\n",
      "       'new_vaccinations', 'new_vaccinations_smoothed',\n",
      "       'total_vaccinations_per_hundred', 'people_vaccinated_per_hundred',\n",
      "       'people_fully_vaccinated_per_hundred', 'total_boosters_per_hundred',\n",
      "       'new_vaccinations_smoothed_per_million',\n",
      "       'new_people_vaccinated_smoothed',\n",
      "       'new_people_vaccinated_smoothed_per_hundred', 'stringency_index',\n",
      "       'population_density', 'median_age', 'aged_65_older', 'aged_70_older',\n",
      "       'gdp_per_capita', 'extreme_poverty', 'cardiovasc_death_rate',\n",
      "       'diabetes_prevalence', 'female_smokers', 'male_smokers',\n",
      "       'handwashing_facilities', 'hospital_beds_per_thousand',\n",
      "       'life_expectancy', 'human_development_index', 'population',\n",
      "       'excess_mortality_cumulative_absolute', 'excess_mortality_cumulative',\n",
      "       'excess_mortality', 'excess_mortality_cumulative_per_million'],\n",
      "      dtype='object')\n"
     ]
    }
   ],
   "source": [
    "dim = covid.shape\n",
    "print(f'La dimensione del dataset è {dim}')\n",
    "print(f'I metadati sono:\\n {covid.columns}')"
   ]
  },
  {
   "cell_type": "markdown",
   "id": "470d8eb0-c42c-403a-9aa5-4b9b0296baa5",
   "metadata": {},
   "source": [
    "### 2. Per ogni continente di trovare il numero di casi totali avvenuti in quello stesso continente, non considerando i dati non appartenenti ad alcun continente;"
   ]
  },
  {
   "cell_type": "code",
   "execution_count": 199,
   "id": "da9ab0e0-d6d5-4caf-93e5-1a0826a9795f",
   "metadata": {
    "tags": []
   },
   "outputs": [
    {
     "name": "stdout",
     "output_type": "stream",
     "text": [
      "(377018, 67)\n",
      "(358948, 3)\n"
     ]
    }
   ],
   "source": [
    "# prendo in esame solo le colonne di interesse e rimuovo i record con continent == NaN\n",
    "covid_clean_aux = pd.read_csv(\"owid-covid-data.csv\", low_memory=False, header=0, sep=\",\", usecols=[1, 5, 34])\n",
    "covid_clean = covid_clean_aux.dropna(subset=['continent'])\n",
    "\n",
    "print(covid.shape)           # | verifico che i record non appartenti a nessun continente\n",
    "print(covid_clean.shape) # | siano stati eliminati"
   ]
  },
  {
   "cell_type": "code",
   "execution_count": 236,
   "id": "507dd0ec-d17a-4bd0-a77c-24e29936a95f",
   "metadata": {
    "tags": []
   },
   "outputs": [
    {
     "name": "stdout",
     "output_type": "stream",
     "text": [
      "continent\n",
      "Africa            13136517.0\n",
      "Asia             301391174.0\n",
      "Europe           252013370.0\n",
      "North America    124526003.0\n",
      "Oceania           14741735.0\n",
      "South America     68752780.0\n",
      "Name: new_cases, dtype: float64\n"
     ]
    }
   ],
   "source": [
    "group = covid_clean.groupby('continent')\n",
    "total_cases = group.new_cases.sum()\n",
    "print(total_cases)"
   ]
  },
  {
   "cell_type": "markdown",
   "id": "9e9b75ac-289b-41a6-8a9b-663fcdd841c5",
   "metadata": {},
   "source": [
    "### 3. Sempre riguardo i casi di COVID totali, si chiede di sviluppare una funzione che prenda in input il dataset e due nomi di continenti, e che ne confronti i seguenti relativi descrittori statistici: valori minimo e massimo, media, e percentuale rispetto al numero dei casi totali nel mondo (calcolati anche sulle locazioni senza indicazione di continente);"
   ]
  },
  {
   "cell_type": "code",
   "execution_count": 232,
   "id": "95f90f67-96a8-42c8-9651-aa3d636fe83f",
   "metadata": {
    "tags": []
   },
   "outputs": [],
   "source": [
    "def statCases(dataframe, continent1, continent2):\n",
    "    filtro_1 = dataframe.loc[dataframe.continent==continent1, :]\n",
    "    filtro_2 = dataframe.loc[dataframe.continent==continent2, :]\n",
    "    max_continent1 = hz.intword(filtro_1.new_cases.max())\n",
    "    min_continent1 = hz.intword(filtro_1.new_cases.min())\n",
    "    avg_continent1 = hz.intword(filtro_1.new_cases.mean())\n",
    "    max_continent2 = hz.intword(filtro_2.new_cases.max())\n",
    "    min_continent2 = hz.intword(filtro_2.new_cases.min())\n",
    "    avg_continent2 = hz.intword(filtro_2.new_cases.mean())\n",
    "    somma = dataframe.new_cases.sum()\n",
    "    percTot_1 = hz.intword((filtro_1.new_cases.sum()*100)/somma)\n",
    "    percTot_2 = hz.intword((filtro_2.new_cases.sum()*100)/somma)\n",
    "    dati = {'max':[max_continent1, max_continent2],\n",
    "            'min':[min_continent1, min_continent2],\n",
    "            'media':[avg_continent1, avg_continent2],\n",
    "            '% su tot':[percTot_1, percTot_2]}\n",
    "    indici = [continent1, continent2]\n",
    "    report = pd.DataFrame(dati, index=indici)\n",
    "    print(report)"
   ]
  },
  {
   "cell_type": "code",
   "execution_count": 233,
   "id": "0819ec7d-6dff-4c73-9dcc-285bc221f00b",
   "metadata": {
    "tags": []
   },
   "outputs": [
    {
     "name": "stdout",
     "output_type": "stream",
     "text": [
      "                          max min         media % su tot\n",
      "Oceania        588.8 thousand   0           411        0\n",
      "South America     1.3 million   0  3.3 thousand        2\n"
     ]
    }
   ],
   "source": [
    "statCases(covid_clean_aux, 'Oceania', 'South America') # prova"
   ]
  },
  {
   "cell_type": "markdown",
   "id": "6ece0405-4ade-4da3-9fdd-7f47d7c6dead",
   "metadata": {},
   "source": [
    "### 4. Si chiede poi di effettuare lo stesso tipo di analisi – anche in questo caso sviluppando una funzione ad hoc per il numero di vaccinazioni totali per ogni continente;"
   ]
  },
  {
   "cell_type": "code",
   "execution_count": 229,
   "id": "887b1676-7b21-4d32-973c-f142f0411978",
   "metadata": {
    "tags": []
   },
   "outputs": [],
   "source": [
    "def statVacc (dataframe):\n",
    "    continents = list(dataframe.continent.unique())\n",
    "    for continent in continents:\n",
    "        filtro = dataframe.loc[dataframe.continent == continent]\n",
    "        max_vacc = hz.intword(filtro.new_vaccinations.max())\n",
    "        min_vacc = hz.intword(filtro.new_vaccinations.min())\n",
    "        avg_vacc = hz.intword(filtro.new_vaccinations.mean())\n",
    "        somma = dataframe.new_vaccinations.sum()\n",
    "        percTot = hz.intword((filtro.new_vaccinations.sum()*100)/somma)\n",
    "        print(f'In {continent} il massimo dei vaccinati è stato {max_vacc}, mentre il minimo {min_vacc}.\\n In media sono stati vaccinati {avg_vacc} individui e in percentuale sul mondo sono stati il {percTot} %.')\n",
    "    "
   ]
  },
  {
   "cell_type": "code",
   "execution_count": 230,
   "id": "30458be3-7339-4968-a554-f9960700037b",
   "metadata": {
    "tags": []
   },
   "outputs": [
    {
     "name": "stdout",
     "output_type": "stream",
     "text": [
      "In Asia il massimo dei vaccinati è stato 24.7 million, mentre il minimo 0.\n",
      " In media sono stati vaccinati 484.2 thousand individui e in percentuale sul mondo sono stati il 14 %.\n",
      "In nan il massimo dei vaccinati è stato NaN, mentre il minimo NaN.\n",
      " In media sono stati vaccinati NaN individui e in percentuale sul mondo sono stati il 0 %.\n",
      "In Europe il massimo dei vaccinati è stato 2.4 million, mentre il minimo 0.\n",
      " In media sono stati vaccinati 55.1 thousand individui e in percentuale sul mondo sono stati il 2 %.\n",
      "In Africa il massimo dei vaccinati è stato 1.9 million, mentre il minimo 0.\n",
      " In media sono stati vaccinati 42.2 thousand individui e in percentuale sul mondo sono stati il 0 %.\n",
      "In Oceania il massimo dei vaccinati è stato 351.2 thousand, mentre il minimo 1.\n",
      " In media sono stati vaccinati 56.0 thousand individui e in percentuale sul mondo sono stati il 0 %.\n",
      "In North America il massimo dei vaccinati è stato 7.2 million, mentre il minimo 0.\n",
      " In media sono stati vaccinati 161.9 thousand individui e in percentuale sul mondo sono stati il 1 %.\n",
      "In South America il massimo dei vaccinati è stato 4.0 million, mentre il minimo 1.\n",
      " In media sono stati vaccinati 141.7 thousand individui e in percentuale sul mondo sono stati il 1 %.\n"
     ]
    }
   ],
   "source": [
    "statVacc(covid)"
   ]
  },
  {
   "cell_type": "markdown",
   "id": "36dc2e99-f6ca-4b38-a493-4abbb58c4dbd",
   "metadata": {},
   "source": [
    "### Differenze tra Europa, Sud America e Oceania."
   ]
  },
  {
   "cell_type": "markdown",
   "id": "1e17568e-f111-4c3e-81a3-b72e34cb51dd",
   "metadata": {},
   "source": [
    "##### "
   ]
  }
 ],
 "metadata": {
  "kernelspec": {
   "display_name": "Python 3 (ipykernel)",
   "language": "python",
   "name": "python3"
  },
  "language_info": {
   "codemirror_mode": {
    "name": "ipython",
    "version": 3
   },
   "file_extension": ".py",
   "mimetype": "text/x-python",
   "name": "python",
   "nbconvert_exporter": "python",
   "pygments_lexer": "ipython3",
   "version": "3.11.5"
  }
 },
 "nbformat": 4,
 "nbformat_minor": 5
}
